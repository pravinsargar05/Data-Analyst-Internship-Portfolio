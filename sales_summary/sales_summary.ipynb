{
 "cells": [
  {
   "cell_type": "code",
   "execution_count": 7,
   "id": "a1cb834b-1fac-458a-8de4-e2b4a59add96",
   "metadata": {},
   "outputs": [
    {
     "name": "stdout",
     "output_type": "stream",
     "text": [
      "Requirement already satisfied: pandas in c:\\users\\pravin\\anaconda\\lib\\site-packages (2.2.3)\n",
      "Requirement already satisfied: matplotlib in c:\\users\\pravin\\anaconda\\lib\\site-packages (3.10.0)\n",
      "Requirement already satisfied: numpy>=1.26.0 in c:\\users\\pravin\\anaconda\\lib\\site-packages (from pandas) (2.1.3)\n",
      "Requirement already satisfied: python-dateutil>=2.8.2 in c:\\users\\pravin\\anaconda\\lib\\site-packages (from pandas) (2.9.0.post0)\n",
      "Requirement already satisfied: pytz>=2020.1 in c:\\users\\pravin\\anaconda\\lib\\site-packages (from pandas) (2024.1)\n",
      "Requirement already satisfied: tzdata>=2022.7 in c:\\users\\pravin\\anaconda\\lib\\site-packages (from pandas) (2025.2)\n",
      "Requirement already satisfied: contourpy>=1.0.1 in c:\\users\\pravin\\anaconda\\lib\\site-packages (from matplotlib) (1.3.1)\n",
      "Requirement already satisfied: cycler>=0.10 in c:\\users\\pravin\\anaconda\\lib\\site-packages (from matplotlib) (0.11.0)\n",
      "Requirement already satisfied: fonttools>=4.22.0 in c:\\users\\pravin\\anaconda\\lib\\site-packages (from matplotlib) (4.55.3)\n",
      "Requirement already satisfied: kiwisolver>=1.3.1 in c:\\users\\pravin\\anaconda\\lib\\site-packages (from matplotlib) (1.4.8)\n",
      "Requirement already satisfied: packaging>=20.0 in c:\\users\\pravin\\anaconda\\lib\\site-packages (from matplotlib) (24.2)\n",
      "Requirement already satisfied: pillow>=8 in c:\\users\\pravin\\anaconda\\lib\\site-packages (from matplotlib) (11.1.0)\n",
      "Requirement already satisfied: pyparsing>=2.3.1 in c:\\users\\pravin\\anaconda\\lib\\site-packages (from matplotlib) (3.2.0)\n",
      "Requirement already satisfied: six>=1.5 in c:\\users\\pravin\\anaconda\\lib\\site-packages (from python-dateutil>=2.8.2->pandas) (1.17.0)\n"
     ]
    }
   ],
   "source": [
    "import sys\n",
    "!{sys.executable} -m pip install pandas matplotlib"
   ]
  },
  {
   "cell_type": "code",
   "execution_count": 8,
   "id": "626cea29-926b-430e-894c-b4b9c7fc5148",
   "metadata": {},
   "outputs": [
    {
     "name": "stdout",
     "output_type": "stream",
     "text": [
      "2.2.3\n"
     ]
    }
   ],
   "source": [
    "import pandas as pd\n",
    "import matplotlib.pyplot as plt\n",
    "print(pd.__version__)\n"
   ]
  },
  {
   "cell_type": "code",
   "execution_count": 18,
   "id": "ca3c6aed-34a7-4c6a-9288-1995299607a3",
   "metadata": {},
   "outputs": [
    {
     "name": "stdout",
     "output_type": "stream",
     "text": [
      "Connenct \n"
     ]
    }
   ],
   "source": [
    "import sqlite3\n",
    "\n",
    "# 1) connect (creates file if missing)\n",
    "conn = sqlite3.connect(\"sales_data.db\")\n",
    "cur = conn.cursor()\n",
    "\n",
    "conn.commit()\n",
    "print(\"Connenct \")"
   ]
  },
  {
   "cell_type": "code",
   "execution_count": 20,
   "id": "a6a9c9ba-09d9-40fb-a435-e51745950ff3",
   "metadata": {},
   "outputs": [
    {
     "name": "stdout",
     "output_type": "stream",
     "text": [
      "created table \n"
     ]
    }
   ],
   "source": [
    "# 2) create table\n",
    "cur.execute(\"DROP TABLE IF EXISTS sales\")\n",
    "cur.execute(\"\"\"\n",
    "CREATE TABLE sales (\n",
    "    id INTEGER PRIMARY KEY AUTOINCREMENT,\n",
    "    product TEXT NOT NULL,\n",
    "    quantity INTEGER NOT NULL,\n",
    "    price REAL NOT NULL,\n",
    "    sale_date TEXT\n",
    ")\n",
    "\"\"\")\n",
    "conn.commit()\n",
    "print(\"created table \")\n"
   ]
  },
  {
   "cell_type": "code",
   "execution_count": 21,
   "id": "ff71609e-5dce-4afc-b933-1f5619842cd2",
   "metadata": {},
   "outputs": [
    {
     "name": "stdout",
     "output_type": "stream",
     "text": [
      "Created sales_data.db \n"
     ]
    }
   ],
   "source": [
    "# 3) insert tiny demo data\n",
    "rows = [\n",
    "    (\"T-Shirt\", 3, 499.0, \"2025-08-01\"),\n",
    "    (\"T-Shirt\", 1, 499.0, \"2025-08-01\"),\n",
    "    (\"Jeans\", 2, 1499.0, \"2025-08-02\"),\n",
    "    (\"Jeans\", 1, 1499.0, \"2025-08-02\"),\n",
    "    (\"Sneakers\", 1, 2999.0, \"2025-08-03\"),\n",
    "    (\"Sneakers\", 2, 2999.0, \"2025-08-03\"),\n",
    "    (\"Cap\", 4, 199.0, \"2025-08-04\"),\n",
    "    (\"Cap\", 2, 199.0, \"2025-08-04\"),\n",
    "    (\"Socks\", 5, 99.0, \"2025-08-05\"),\n",
    "    (\"Socks\", 10, 99.0, \"2025-08-05\"),\n",
    "    (\"Hoodie\", 1, 1999.0, \"2025-08-06\"),\n",
    "    (\"Hoodie\", 2, 1999.0, \"2025-08-06\")\n",
    "]\n",
    "cur.executemany(\n",
    "    \"INSERT INTO sales (product, quantity, price, sale_date) VALUES (?, ?, ?, ?)\", rows\n",
    ")\n",
    "conn.commit()\n",
    "print(\"Created sales_data.db \")\n"
   ]
  },
  {
   "cell_type": "code",
   "execution_count": 16,
   "id": "ca0f74c5-72d0-48ad-a543-9fcd9bd5bf43",
   "metadata": {},
   "outputs": [
    {
     "name": "stdout",
     "output_type": "stream",
     "text": [
      "    product  total_qty  revenue\n",
      "0  Sneakers          3   8997.0\n",
      "1    Hoodie          3   5997.0\n",
      "2     Jeans          3   4497.0\n",
      "3   T-Shirt          4   1996.0\n",
      "4     Socks         15   1485.0\n",
      "5       Cap          6   1194.0\n"
     ]
    }
   ],
   "source": [
    "import pandas as pd\n",
    "\n",
    "query = \"\"\"\n",
    "SELECT\n",
    "    product,\n",
    "    SUM(quantity)            AS total_qty,\n",
    "    ROUND(SUM(quantity*price), 2) AS revenue\n",
    "FROM sales\n",
    "GROUP BY product\n",
    "ORDER BY revenue DESC\n",
    "\"\"\"\n",
    "df = pd.read_sql_query(query, conn)\n",
    "print(df)\n",
    "\n"
   ]
  },
  {
   "cell_type": "code",
   "execution_count": 17,
   "id": "fa5f6a48-40b2-4c97-9664-7ba6c8f1986b",
   "metadata": {},
   "outputs": [
    {
     "name": "stdout",
     "output_type": "stream",
     "text": [
      "\n",
      "Totals:\n",
      "    all_qty  total_revenue\n",
      "0       34        24166.0\n"
     ]
    }
   ],
   "source": [
    "# (optional) overall totals\n",
    "totals = pd.read_sql_query(\n",
    "    \"SELECT SUM(quantity) AS all_qty, ROUND(SUM(quantity*price), 2) AS total_revenue FROM sales\",\n",
    "    conn\n",
    ")\n",
    "print(\"\\nTotals:\\n\", totals)\n"
   ]
  },
  {
   "cell_type": "code",
   "execution_count": 11,
   "id": "4a45a0c1-45bd-4212-8c16-8da195526e3d",
   "metadata": {},
   "outputs": [
    {
     "data": {
      "image/png": "[encoded data removed]",
      "text/plain": [
       "<Figure size 640x480 with 1 Axes>"
      ]
     },
     "metadata": {},
     "output_type": "display_data"
    }
   ],
   "source": [
    "import matplotlib.pyplot as plt\n",
    "\n",
    "ax = df.plot(kind=\"bar\", x=\"product\", y=\"revenue\", legend=False, title=\"Revenue by Product\")\n",
    "plt.ylabel(\"Revenue\")\n",
    "plt.tight_layout()\n",
    "plt.savefig(\"sales_chart.png\", dpi=150)\n",
    "plt.show()\n"
   ]
  },
  {
   "cell_type": "code",
   "execution_count": null,
   "id": "11360d45-29ce-4d93-9d95-53e84c96ddf2",
   "metadata": {},
   "outputs": [],
   "source": []
  }
 ],
 "metadata": {
  "kernelspec": {
   "display_name": "Python 3 (ipykernel)",
   "language": "python",
   "name": "python3"
  },
  "language_info": {
   "codemirror_mode": {
    "name": "ipython",
    "version": 3
   },
   "file_extension": ".py",
   "mimetype": "text/x-python",
   "name": "python",
   "nbconvert_exporter": "python",
   "pygments_lexer": "ipython3",
   "version": "3.13.5"
  }
 },
 "nbformat": 4,
 "nbformat_minor": 5
}
